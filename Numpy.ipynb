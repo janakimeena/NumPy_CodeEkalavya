{
  "nbformat": 4,
  "nbformat_minor": 0,
  "metadata": {
    "colab": {
      "name": "Numpy.ipynb",
      "provenance": [],
      "collapsed_sections": [
        "1u6dudVECUQq"
      ]
    },
    "kernelspec": {
      "name": "python3",
      "display_name": "Python 3"
    }
  },
  "cells": [
    {
      "cell_type": "markdown",
      "metadata": {
        "id": "1u6dudVECUQq"
      },
      "source": [
        "#NumPy\n",
        "NumPy (Numerical Python) is a linear algebra library in Python. It is a very important library on which almost every data science or machine learning Python packages such as SciPy (Scientific Python), Mat−plotlib(plotting library), Scikit-learn, etc depends on to a reasonable extent.\n",
        "\n",
        "NumPy is very useful for performing mathematical and logical operations on Arrays. It provides an abundance of useful features for operations on n-arrays and matrices in Python."
      ]
    },
    {
      "cell_type": "markdown",
      "metadata": {
        "id": "scwkRsMynknq"
      },
      "source": [
        "# Why NumPy when list is there\n"
      ]
    },
    {
      "cell_type": "markdown",
      "metadata": {
        "id": "9gdysuEp7L1m"
      },
      "source": [
        "## NumPy arrays consume less memory than lists\n",
        "\n"
      ]
    },
    {
      "cell_type": "code",
      "metadata": {
        "id": "ceA3rfBI7grK",
        "colab": {
          "base_uri": "https://localhost:8080/"
        },
        "outputId": "bbe3b4a7-66ec-4b6a-b9db-49489f4ce0d0"
      },
      "source": [
        "import numpy as np\n",
        "import sys\n",
        "S = list(range(100000))\n",
        "print(sys.getsizeof(100000)*len(S))\n",
        "D = np.arange(100000)\n",
        "print(D.size*D.itemsize)"
      ],
      "execution_count": 134,
      "outputs": [
        {
          "output_type": "stream",
          "name": "stdout",
          "text": [
            "2800000\n",
            "800000\n"
          ]
        }
      ]
    },
    {
      "cell_type": "markdown",
      "metadata": {
        "id": "CLeQSDTj8vTy"
      },
      "source": [
        "## NumPy arrays are faster than lists"
      ]
    },
    {
      "cell_type": "code",
      "metadata": {
        "id": "y8hYr8-Z7akT",
        "colab": {
          "base_uri": "https://localhost:8080/"
        },
        "outputId": "3530b738-997b-49d0-e3f2-ceb9d801faca"
      },
      "source": [
        "import time\n",
        "t1 = time.time()\n",
        "X = range(100000)\n",
        "Y = range(100000)\n",
        "Z = [X[i] + Y[i] for i in range(len(X)) ]\n",
        "print(time.time() - t1)"
      ],
      "execution_count": 135,
      "outputs": [
        {
          "output_type": "stream",
          "name": "stdout",
          "text": [
            "0.044989824295043945\n"
          ]
        }
      ]
    },
    {
      "cell_type": "code",
      "metadata": {
        "id": "fawNe6BZ09vH",
        "colab": {
          "base_uri": "https://localhost:8080/"
        },
        "outputId": "85052634-609f-4100-cfaf-c26fd1b15ebf"
      },
      "source": [
        "import numpy as np\n",
        "start = time.time()\n",
        "A1 = np.arange(100000)\n",
        "A2 = np.arange(100000)\n",
        "result = A1 + A2 # Convenient\n",
        "print((time.time()-start))"
      ],
      "execution_count": 136,
      "outputs": [
        {
          "output_type": "stream",
          "name": "stdout",
          "text": [
            "0.0018939971923828125\n"
          ]
        }
      ]
    },
    {
      "cell_type": "markdown",
      "metadata": {
        "id": "sDc4MPb25RRg"
      },
      "source": [
        "# Creating a NumPy array\n",
        "Numpy array is created using array function in the package. The dimension of the array can be from one to many"
      ]
    },
    {
      "cell_type": "code",
      "metadata": {
        "id": "7TCCwlFF5kqS",
        "colab": {
          "base_uri": "https://localhost:8080/"
        },
        "outputId": "0a880d62-c956-4bb2-81a4-969e1b4a2fd4"
      },
      "source": [
        "one_D = np.array([1,2,3]) #one_D = np.array([(1,2,3)])\n",
        "print(one_D)"
      ],
      "execution_count": 129,
      "outputs": [
        {
          "output_type": "stream",
          "name": "stdout",
          "text": [
            "[1 2 3]\n"
          ]
        }
      ]
    },
    {
      "cell_type": "code",
      "metadata": {
        "id": "19fdYRWb4_bj",
        "colab": {
          "base_uri": "https://localhost:8080/"
        },
        "outputId": "ec0b7ffb-21d2-4881-85bd-180c5cc79cc9"
      },
      "source": [
        "two_D = np.array([[1,2,3],[4,5,6]]) #two_D = np.array([(1,2,3),(4,5,6)])\n",
        "print(two_D)"
      ],
      "execution_count": 137,
      "outputs": [
        {
          "output_type": "stream",
          "name": "stdout",
          "text": [
            "[[1 2 3]\n",
            " [4 5 6]]\n"
          ]
        }
      ]
    },
    {
      "cell_type": "code",
      "metadata": {
        "id": "zrmTdOla6Adk",
        "colab": {
          "base_uri": "https://localhost:8080/"
        },
        "outputId": "89d69a7f-b33c-4bbf-bb85-295a22545783"
      },
      "source": [
        "three_D = np.array([\n",
        "                    [(1,2,3),(4,5,6),(7,8,9)],\n",
        "                    [(11,12,13),(14,15,16),(17,18,19)]\n",
        "                    ])\n",
        "print(three_D)"
      ],
      "execution_count": 138,
      "outputs": [
        {
          "output_type": "stream",
          "name": "stdout",
          "text": [
            "[[[ 1  2  3]\n",
            "  [ 4  5  6]\n",
            "  [ 7  8  9]]\n",
            "\n",
            " [[11 12 13]\n",
            "  [14 15 16]\n",
            "  [17 18 19]]]\n"
          ]
        }
      ]
    },
    {
      "cell_type": "code",
      "metadata": {
        "colab": {
          "base_uri": "https://localhost:8080/"
        },
        "id": "L9HNwG3Z3JB2",
        "outputId": "61c87d91-b135-4be2-a80a-d8afda318cb4"
      },
      "source": [
        "print(three_D.ndim)\n",
        "print(three_D.shape)"
      ],
      "execution_count": 139,
      "outputs": [
        {
          "output_type": "stream",
          "name": "stdout",
          "text": [
            "3\n",
            "(2, 3, 3)\n"
          ]
        }
      ]
    },
    {
      "cell_type": "markdown",
      "metadata": {
        "id": "rNKkcpNL_40C"
      },
      "source": [
        "# Dimension of the array"
      ]
    },
    {
      "cell_type": "code",
      "metadata": {
        "id": "4jvE28iA_-eI",
        "colab": {
          "base_uri": "https://localhost:8080/"
        },
        "outputId": "99dcaebb-ffeb-4c16-f140-2012eeb4d66d"
      },
      "source": [
        "import  numpy as np\n",
        "a = np.array([(1,2,3),(4,5,6)])\n",
        "print('Dimension\\t',a.ndim)   # Dimension of array"
      ],
      "execution_count": 140,
      "outputs": [
        {
          "output_type": "stream",
          "name": "stdout",
          "text": [
            "Dimension\t 2\n"
          ]
        }
      ]
    },
    {
      "cell_type": "code",
      "metadata": {
        "id": "NrwpU9OxdB3y",
        "colab": {
          "base_uri": "https://localhost:8080/"
        },
        "outputId": "f0e9e9ce-470a-47f9-cb5d-78183838de7b"
      },
      "source": [
        "print('Size of elements\\t', a.itemsize) # size of each element"
      ],
      "execution_count": null,
      "outputs": [
        {
          "output_type": "stream",
          "name": "stdout",
          "text": [
            "Size of elements\t 8\n"
          ]
        }
      ]
    },
    {
      "cell_type": "code",
      "metadata": {
        "id": "gA3KoaHpdF4C",
        "colab": {
          "base_uri": "https://localhost:8080/"
        },
        "outputId": "93bc529e-52f8-463a-f1a0-789a828700ca"
      },
      "source": [
        "print('Data type\\t',a.dtype) # Data type of elements in array"
      ],
      "execution_count": 141,
      "outputs": [
        {
          "output_type": "stream",
          "name": "stdout",
          "text": [
            "Data type\t int64\n"
          ]
        }
      ]
    },
    {
      "cell_type": "code",
      "metadata": {
        "id": "LoAv8HR_dHrD",
        "colab": {
          "base_uri": "https://localhost:8080/"
        },
        "outputId": "260e8607-3d73-490d-8fb1-04fe8208bbe9"
      },
      "source": [
        "print('Size\\t',a.size)"
      ],
      "execution_count": 142,
      "outputs": [
        {
          "output_type": "stream",
          "name": "stdout",
          "text": [
            "Size\t 6\n"
          ]
        }
      ]
    },
    {
      "cell_type": "code",
      "metadata": {
        "id": "3ZILYzVfdJLN",
        "colab": {
          "base_uri": "https://localhost:8080/"
        },
        "outputId": "4bdd6e5c-28c9-4f0c-ade5-b1e0ee03a88e"
      },
      "source": [
        "print('Shape\\t',a.shape)"
      ],
      "execution_count": 143,
      "outputs": [
        {
          "output_type": "stream",
          "name": "stdout",
          "text": [
            "Shape\t (2, 3)\n"
          ]
        }
      ]
    },
    {
      "cell_type": "markdown",
      "metadata": {
        "id": "UtfqeNQi6IvN"
      },
      "source": [
        "# Accessing elements of an array / Indexing in NumPy\n",
        "One dimensional - one_D[2]\n",
        "\n",
        "Two dimensional - two_D[1][2] or two_D[1,2]\n",
        "\n",
        "Three dimensional - three_D[1][2][2] or three_D[1, 2, 2]"
      ]
    },
    {
      "cell_type": "code",
      "metadata": {
        "id": "cqT7kcBA7qtI",
        "colab": {
          "base_uri": "https://localhost:8080/"
        },
        "outputId": "ed0d9b79-8e70-413c-a89f-a219b835dbf7"
      },
      "source": [
        "print(one_D[2])"
      ],
      "execution_count": 144,
      "outputs": [
        {
          "output_type": "stream",
          "name": "stdout",
          "text": [
            "3\n"
          ]
        }
      ]
    },
    {
      "cell_type": "code",
      "metadata": {
        "id": "gswT_Mxf70Tz",
        "colab": {
          "base_uri": "https://localhost:8080/"
        },
        "outputId": "72a4eed2-dc20-4034-f3ae-bde5977f7640"
      },
      "source": [
        "print(two_D[1][2]) # print(two_D[1,2])"
      ],
      "execution_count": 146,
      "outputs": [
        {
          "output_type": "stream",
          "name": "stdout",
          "text": [
            "6\n"
          ]
        }
      ]
    },
    {
      "cell_type": "code",
      "metadata": {
        "colab": {
          "base_uri": "https://localhost:8080/"
        },
        "id": "N6asbGsT6E2I",
        "outputId": "c894369a-13cf-44f7-ae01-d402aab22b42"
      },
      "source": [
        "print(two_D[1,2])"
      ],
      "execution_count": 147,
      "outputs": [
        {
          "output_type": "stream",
          "name": "stdout",
          "text": [
            "6\n"
          ]
        }
      ]
    },
    {
      "cell_type": "code",
      "metadata": {
        "id": "sWNmgcdPA2wE",
        "colab": {
          "base_uri": "https://localhost:8080/"
        },
        "outputId": "83d4347d-37ca-4a12-eee8-cdb068b3a696"
      },
      "source": [
        "print(three_D[1][2][2])#print(three_D[1, 2, 2])"
      ],
      "execution_count": 148,
      "outputs": [
        {
          "output_type": "stream",
          "name": "stdout",
          "text": [
            "19\n"
          ]
        }
      ]
    },
    {
      "cell_type": "markdown",
      "metadata": {
        "id": "4gL2otx6tVoW"
      },
      "source": [
        "# Reshaping an array in NumPy\n",
        "Reshape function is used to reshape arrays in NumPy"
      ]
    },
    {
      "cell_type": "code",
      "metadata": {
        "id": "pFXRi4CwtnGv"
      },
      "source": [
        "oneD = np.arange(1,25)"
      ],
      "execution_count": 149,
      "outputs": []
    },
    {
      "cell_type": "code",
      "metadata": {
        "id": "Ai5_I2l2t0QO",
        "colab": {
          "base_uri": "https://localhost:8080/"
        },
        "outputId": "2b97efdc-90bb-4b88-f7ad-d8091b1bbb78"
      },
      "source": [
        "twoD = oneD.reshape(4,6)\n",
        "print(twoD)"
      ],
      "execution_count": 151,
      "outputs": [
        {
          "output_type": "stream",
          "name": "stdout",
          "text": [
            "[[ 1  2  3  4  5  6]\n",
            " [ 7  8  9 10 11 12]\n",
            " [13 14 15 16 17 18]\n",
            " [19 20 21 22 23 24]]\n"
          ]
        }
      ]
    },
    {
      "cell_type": "markdown",
      "metadata": {
        "id": "9_IV7qlPFdt6"
      },
      "source": [
        "# Ravel a 2D array\n",
        "\n",
        "To get 1D array from a 2D array"
      ]
    },
    {
      "cell_type": "code",
      "metadata": {
        "id": "M9QghQvCLdMf",
        "colab": {
          "base_uri": "https://localhost:8080/"
        },
        "outputId": "770b646d-c301-4af6-a8d1-14f40a901400"
      },
      "source": [
        "new_OneD = np.ravel(twoD)\n",
        "print(new_OneD)"
      ],
      "execution_count": 152,
      "outputs": [
        {
          "output_type": "stream",
          "name": "stdout",
          "text": [
            "[ 1  2  3  4  5  6  7  8  9 10 11 12 13 14 15 16 17 18 19 20 21 22 23 24]\n"
          ]
        }
      ]
    },
    {
      "cell_type": "markdown",
      "metadata": {
        "id": "WWg3xbaVMNeu"
      },
      "source": [
        "## Reshape equivalent to Ravel"
      ]
    },
    {
      "cell_type": "code",
      "metadata": {
        "id": "et_UeT6VLtZd",
        "colab": {
          "base_uri": "https://localhost:8080/"
        },
        "outputId": "684a8649-9cd9-4047-e29d-1c2f1ecb4517"
      },
      "source": [
        "new_OneD1 = twoD.reshape(-1)\n",
        "print(new_OneD1)"
      ],
      "execution_count": 153,
      "outputs": [
        {
          "output_type": "stream",
          "name": "stdout",
          "text": [
            "[ 1  2  3  4  5  6  7  8  9 10 11 12 13 14 15 16 17 18 19 20 21 22 23 24]\n"
          ]
        }
      ]
    },
    {
      "cell_type": "markdown",
      "metadata": {
        "id": "LgN_AdAaBzrm"
      },
      "source": [
        "# Slicing in NumPy\n"
      ]
    },
    {
      "cell_type": "code",
      "metadata": {
        "id": "iCVIwhHQH31r"
      },
      "source": [
        "two_D = np.arange(0,36).reshape(6,6)"
      ],
      "execution_count": 156,
      "outputs": []
    },
    {
      "cell_type": "code",
      "metadata": {
        "colab": {
          "base_uri": "https://localhost:8080/"
        },
        "id": "SYvx8-NWJKtm",
        "outputId": "0a474211-3377-41a4-9afa-e4ff5eb89339"
      },
      "source": [
        "print(two_D)\n",
        "sub = two_D[1:4,3:6]\n",
        "print('\\nSub Array is')\n",
        "print(sub)"
      ],
      "execution_count": 157,
      "outputs": [
        {
          "output_type": "stream",
          "name": "stdout",
          "text": [
            "[[ 0  1  2  3  4  5]\n",
            " [ 6  7  8  9 10 11]\n",
            " [12 13 14 15 16 17]\n",
            " [18 19 20 21 22 23]\n",
            " [24 25 26 27 28 29]\n",
            " [30 31 32 33 34 35]]\n",
            "\n",
            "Sub Array is\n",
            "[[ 9 10 11]\n",
            " [15 16 17]\n",
            " [21 22 23]]\n"
          ]
        }
      ]
    },
    {
      "cell_type": "code",
      "metadata": {
        "id": "5Rg9szTJBzIB",
        "colab": {
          "base_uri": "https://localhost:8080/"
        },
        "outputId": "8532e849-8040-4390-fa93-82b58ca97351"
      },
      "source": [
        "print(two_D)\n",
        "sub = two_D[1:,3:6]\n",
        "print('\\nSub Array is')\n",
        "print(sub)"
      ],
      "execution_count": 158,
      "outputs": [
        {
          "output_type": "stream",
          "name": "stdout",
          "text": [
            "[[ 0  1  2  3  4  5]\n",
            " [ 6  7  8  9 10 11]\n",
            " [12 13 14 15 16 17]\n",
            " [18 19 20 21 22 23]\n",
            " [24 25 26 27 28 29]\n",
            " [30 31 32 33 34 35]]\n",
            "\n",
            "Sub Array is\n",
            "[[ 9 10 11]\n",
            " [15 16 17]\n",
            " [21 22 23]\n",
            " [27 28 29]\n",
            " [33 34 35]]\n"
          ]
        }
      ]
    },
    {
      "cell_type": "markdown",
      "metadata": {
        "id": "zl0F3FNOC7S0"
      },
      "source": [
        "# Built-in Methods to Create NumPy Arrays\n",
        "Certain built-in methods are available for creating NumPy arrays\n",
        "\n",
        "\n",
        "\n",
        "1. arange function\n",
        "2. Zeros\n",
        "3. Ones\n",
        "4. Eye\n",
        "5. Linspace\n",
        "6. Random Arrays\n",
        "\n"
      ]
    },
    {
      "cell_type": "markdown",
      "metadata": {
        "id": "XbQ2HTuz3yjp"
      },
      "source": [
        "## Arange function\n",
        "\n",
        "Generate a sequence of elements"
      ]
    },
    {
      "cell_type": "code",
      "metadata": {
        "id": "AJ8xZpyFV478",
        "colab": {
          "base_uri": "https://localhost:8080/"
        },
        "outputId": "1bb76d60-4a77-44e3-c344-cdfb1e4e11b8"
      },
      "source": [
        "# ten elements from 0 to 9\n",
        "ten_ele = np.arange(0,10)\n",
        "print(ten_ele)"
      ],
      "execution_count": 159,
      "outputs": [
        {
          "output_type": "stream",
          "name": "stdout",
          "text": [
            "[0 1 2 3 4 5 6 7 8 9]\n"
          ]
        }
      ]
    },
    {
      "cell_type": "code",
      "metadata": {
        "id": "h2Ltb9oHWKkR",
        "colab": {
          "base_uri": "https://localhost:8080/"
        },
        "outputId": "72f83ad4-a0f6-44e5-e9f8-88335874faae"
      },
      "source": [
        "# odd numbers from 101 to 130\n",
        "ten_ele = np.arange(101,130,0.7)\n",
        "print(ten_ele)"
      ],
      "execution_count": 161,
      "outputs": [
        {
          "output_type": "stream",
          "name": "stdout",
          "text": [
            "[101.  101.7 102.4 103.1 103.8 104.5 105.2 105.9 106.6 107.3 108.  108.7\n",
            " 109.4 110.1 110.8 111.5 112.2 112.9 113.6 114.3 115.  115.7 116.4 117.1\n",
            " 117.8 118.5 119.2 119.9 120.6 121.3 122.  122.7 123.4 124.1 124.8 125.5\n",
            " 126.2 126.9 127.6 128.3 129.  129.7]\n"
          ]
        }
      ]
    },
    {
      "cell_type": "markdown",
      "metadata": {
        "id": "RY9lLU-_4rG-"
      },
      "source": [
        "## Create an array of zeros"
      ]
    },
    {
      "cell_type": "code",
      "metadata": {
        "id": "dqN4PEFiWVub",
        "colab": {
          "base_uri": "https://localhost:8080/"
        },
        "outputId": "7242948b-e8cf-4294-9566-34002d6e9c52"
      },
      "source": [
        "# Array of 10 zeros\n",
        "z = np.zeros(10)\n",
        "print(z)"
      ],
      "execution_count": 162,
      "outputs": [
        {
          "output_type": "stream",
          "name": "stdout",
          "text": [
            "[0. 0. 0. 0. 0. 0. 0. 0. 0. 0.]\n"
          ]
        }
      ]
    },
    {
      "cell_type": "code",
      "metadata": {
        "id": "BV6Epc5eWgsS",
        "colab": {
          "base_uri": "https://localhost:8080/"
        },
        "outputId": "40699b9a-4406-4d8c-f9f6-ceedb28235bc"
      },
      "source": [
        "# 2D array of zeros\n",
        "z2 = np.zeros([4,5])\n",
        "print(z2)"
      ],
      "execution_count": 164,
      "outputs": [
        {
          "output_type": "stream",
          "name": "stdout",
          "text": [
            "[[0. 0. 0. 0. 0.]\n",
            " [0. 0. 0. 0. 0.]\n",
            " [0. 0. 0. 0. 0.]\n",
            " [0. 0. 0. 0. 0.]]\n"
          ]
        }
      ]
    },
    {
      "cell_type": "code",
      "metadata": {
        "id": "Fdalc4L9W0V2",
        "colab": {
          "base_uri": "https://localhost:8080/"
        },
        "outputId": "aa52572b-6756-4773-ee0a-a4c2fc4b3286"
      },
      "source": [
        "# 3D array of zeros\n",
        "z3 = np.zeros((4,5,2))\n",
        "print(z3)"
      ],
      "execution_count": 165,
      "outputs": [
        {
          "output_type": "stream",
          "name": "stdout",
          "text": [
            "[[[0. 0.]\n",
            "  [0. 0.]\n",
            "  [0. 0.]\n",
            "  [0. 0.]\n",
            "  [0. 0.]]\n",
            "\n",
            " [[0. 0.]\n",
            "  [0. 0.]\n",
            "  [0. 0.]\n",
            "  [0. 0.]\n",
            "  [0. 0.]]\n",
            "\n",
            " [[0. 0.]\n",
            "  [0. 0.]\n",
            "  [0. 0.]\n",
            "  [0. 0.]\n",
            "  [0. 0.]]\n",
            "\n",
            " [[0. 0.]\n",
            "  [0. 0.]\n",
            "  [0. 0.]\n",
            "  [0. 0.]\n",
            "  [0. 0.]]]\n"
          ]
        }
      ]
    },
    {
      "cell_type": "markdown",
      "metadata": {
        "id": "hym3ixO45BEe"
      },
      "source": [
        "## Creating array of ones"
      ]
    },
    {
      "cell_type": "code",
      "metadata": {
        "id": "R_2jklAOXFoA",
        "colab": {
          "base_uri": "https://localhost:8080/"
        },
        "outputId": "8f6a583a-2399-4ba1-f3d7-053716af9a41"
      },
      "source": [
        "# by default elements are float can be changed by passing keyword arguments\n",
        "o1 = np.ones(10,dtype=np.int32)\n",
        "print(o1)"
      ],
      "execution_count": 170,
      "outputs": [
        {
          "output_type": "stream",
          "name": "stdout",
          "text": [
            "[1 1 1 1 1 1 1 1 1 1]\n"
          ]
        }
      ]
    },
    {
      "cell_type": "markdown",
      "metadata": {
        "id": "u-d6LZaGdPla"
      },
      "source": [
        "## Identity Matrix\n",
        "Identity matrices are very useful when dealing with linear algebras. Usually, is a two-dimensional square matrix. This means the number of row is equal to the number of column. One unique thing to note about identity matrix is that the diagonals are 1’s and everything else is 0. Identity matrices usually takes a single argument when a square matrix is required. But we can also give the dimension of row and column when a rectangular matrix is needed"
      ]
    },
    {
      "cell_type": "code",
      "metadata": {
        "id": "fHDl1AHuXxQY",
        "colab": {
          "base_uri": "https://localhost:8080/"
        },
        "outputId": "01365bad-521f-4c0f-942a-5676572af81b"
      },
      "source": [
        "e1 = np.eye(4,dtype=int)\n",
        "print(e1)"
      ],
      "execution_count": 171,
      "outputs": [
        {
          "output_type": "stream",
          "name": "stdout",
          "text": [
            "[[1 0 0 0]\n",
            " [0 1 0 0]\n",
            " [0 0 1 0]\n",
            " [0 0 0 1]]\n"
          ]
        }
      ]
    },
    {
      "cell_type": "code",
      "metadata": {
        "id": "YdyUzpK4X_OG",
        "colab": {
          "base_uri": "https://localhost:8080/"
        },
        "outputId": "860f14c8-4342-4f47-a5b9-4f694f7f91cb"
      },
      "source": [
        "# Identity matrix with '1' on the main diagonal\n",
        "e1 = np.eye(4,5,dtype=int)\n",
        "print(e1)"
      ],
      "execution_count": 172,
      "outputs": [
        {
          "output_type": "stream",
          "name": "stdout",
          "text": [
            "[[1 0 0 0 0]\n",
            " [0 1 0 0 0]\n",
            " [0 0 1 0 0]\n",
            " [0 0 0 1 0]]\n"
          ]
        }
      ]
    },
    {
      "cell_type": "code",
      "metadata": {
        "id": "8wP_pdndZidx",
        "colab": {
          "base_uri": "https://localhost:8080/"
        },
        "outputId": "1a1269c9-d7ff-4b18-c0f9-d03b68936af3"
      },
      "source": [
        "# when k value is given then a matrix with '1' on the diagonal below the main diagonal\n",
        "e1 = np.eye(4,5,k=-2,dtype=int)\n",
        "print(e1)"
      ],
      "execution_count": 175,
      "outputs": [
        {
          "output_type": "stream",
          "name": "stdout",
          "text": [
            "[[0 0 0 0 0]\n",
            " [0 0 0 0 0]\n",
            " [1 0 0 0 0]\n",
            " [0 1 0 0 0]]\n"
          ]
        }
      ]
    },
    {
      "cell_type": "markdown",
      "metadata": {
        "id": "Schof_QIcp4f"
      },
      "source": [
        "##Linspace\n",
        "linspace() function returns numbers evenly spaced over a specified intervals. Say we want 19 evenly spaced points from 1 to 10, we can easily use:\n",
        "\n",
        "Unlike the arange() function which takes the third argument as the number of steps, linspace() takes the third argument as the number of datapoints to be created."
      ]
    },
    {
      "cell_type": "code",
      "metadata": {
        "id": "fu27ONtzcQ81",
        "colab": {
          "base_uri": "https://localhost:8080/"
        },
        "outputId": "9f09f9ce-47c1-46e5-9f40-a0142fdcfdb1"
      },
      "source": [
        "l1 = np.linspace(1,10,19)\n",
        "print(l1)"
      ],
      "execution_count": 176,
      "outputs": [
        {
          "output_type": "stream",
          "name": "stdout",
          "text": [
            "[ 1.   1.5  2.   2.5  3.   3.5  4.   4.5  5.   5.5  6.   6.5  7.   7.5\n",
            "  8.   8.5  9.   9.5 10. ]\n"
          ]
        }
      ]
    },
    {
      "cell_type": "code",
      "metadata": {
        "id": "qbJfcOh4NZuf",
        "colab": {
          "base_uri": "https://localhost:8080/"
        },
        "outputId": "9774a27f-2f3f-4280-c21c-ff6c3c200d85"
      },
      "source": [
        "import numpy as np\n",
        "l1 = np.linspace(1,10,30, retstep=True)\n",
        "print(l1)"
      ],
      "execution_count": 178,
      "outputs": [
        {
          "output_type": "stream",
          "name": "stdout",
          "text": [
            "(array([ 1.        ,  1.31034483,  1.62068966,  1.93103448,  2.24137931,\n",
            "        2.55172414,  2.86206897,  3.17241379,  3.48275862,  3.79310345,\n",
            "        4.10344828,  4.4137931 ,  4.72413793,  5.03448276,  5.34482759,\n",
            "        5.65517241,  5.96551724,  6.27586207,  6.5862069 ,  6.89655172,\n",
            "        7.20689655,  7.51724138,  7.82758621,  8.13793103,  8.44827586,\n",
            "        8.75862069,  9.06896552,  9.37931034,  9.68965517, 10.        ]), 0.3103448275862069)\n"
          ]
        }
      ]
    },
    {
      "cell_type": "markdown",
      "metadata": {
        "id": "6pHwNbmsJ80T"
      },
      "source": [
        "# LogSpace\n",
        "\n",
        "numpy.logspace() function returns number spaced evenly with respect to interval on a log scale. In linear space, the sequence starts at base ** start (base to the power of start) and ends with base ** stop\n",
        "\n",
        "**Parameters**\n",
        "\n",
        "**start**\n",
        "\n",
        "base ** start is the starting value of the sequence.\n",
        "\n",
        "**stop**\n",
        "\n",
        "base ** stop is the final value of the sequence, unless endpoint is False. In that case, num + 1 values are spaced over the interval in log-space, of which all but the last (a sequence of length num) are returned.\n",
        "\n",
        "\n",
        "**numinteger, optional**\n",
        "\n",
        "Number of samples to generate. Default is 50.\n",
        "\n",
        "**endpointboolean, optional**\n",
        "\n",
        "If true, stop is the last sample. Otherwise, it is not included. Default is True.\n",
        "\n",
        "**base, optional**\n",
        "\n",
        "The base of the log space. The step size between the elements in ln(samples) / ln(base) (or log_base(samples)) is uniform. Default is 10.0.\n",
        "\n",
        "**dtype**\n",
        "\n",
        "The type of the output array. If dtype is not given, the data type is inferred from start and stop. The inferred type will never be an integer; float is chosen even if the arguments would produce an array of integers"
      ]
    },
    {
      "cell_type": "code",
      "metadata": {
        "id": "0Q3CaqLMN9j6",
        "colab": {
          "base_uri": "https://localhost:8080/"
        },
        "outputId": "264b6054-1117-4bc3-b98a-6e2b9f04bcf0"
      },
      "source": [
        "np.logspace(1,10,num=5,endpoint=True,base=10.0)"
      ],
      "execution_count": 179,
      "outputs": [
        {
          "output_type": "execute_result",
          "data": {
            "text/plain": [
              "array([1.00000000e+01, 1.77827941e+03, 3.16227766e+05, 5.62341325e+07,\n",
              "       1.00000000e+10])"
            ]
          },
          "metadata": {},
          "execution_count": 179
        }
      ]
    },
    {
      "cell_type": "code",
      "metadata": {
        "colab": {
          "base_uri": "https://localhost:8080/"
        },
        "id": "VVWgUASVLYby",
        "outputId": "4a1f2c6a-589d-4701-cb0e-73409774635f"
      },
      "source": [
        "np.logspace(5,10,num=5,endpoint=True,base=10.0)"
      ],
      "execution_count": 181,
      "outputs": [
        {
          "output_type": "execute_result",
          "data": {
            "text/plain": [
              "array([1.00000000e+05, 1.77827941e+06, 3.16227766e+07, 5.62341325e+08,\n",
              "       1.00000000e+10])"
            ]
          },
          "metadata": {},
          "execution_count": 181
        }
      ]
    },
    {
      "cell_type": "code",
      "metadata": {
        "colab": {
          "base_uri": "https://localhost:8080/"
        },
        "id": "-hoxevsrLsu6",
        "outputId": "e9717cbc-0c5d-4a6b-a838-8d7aaee44c81"
      },
      "source": [
        "np.logspace(5,10,num=5,endpoint=False,base=10.0)"
      ],
      "execution_count": 182,
      "outputs": [
        {
          "output_type": "execute_result",
          "data": {
            "text/plain": [
              "array([1.e+05, 1.e+06, 1.e+07, 1.e+08, 1.e+09])"
            ]
          },
          "metadata": {},
          "execution_count": 182
        }
      ]
    },
    {
      "cell_type": "markdown",
      "metadata": {
        "id": "1VWStzSceDoL"
      },
      "source": [
        "## Generating an array of random numbers\n",
        "An array of random numbers may be generated using rand(), randn() or randint() functions\n",
        "\n",
        "\n",
        "1. random.rand() - generate an array of random numbers from uniform distribution over 0 to 1 \n",
        "2. random.randn() - generate random samples from Standard normal or Gaussian distribution centered around 0 - mean of the values generated will be 0 and variance will be 1\n",
        "3. random.randint() - generate an array of integers. The randint() function can take up to 3 arguments; the low(inclusive), high(exclusive) and size of the array\n",
        "\n"
      ]
    },
    {
      "cell_type": "code",
      "metadata": {
        "colab": {
          "base_uri": "https://localhost:8080/",
          "height": 545
        },
        "id": "lKiKI6DMNY9w",
        "outputId": "1d43a2d9-bd01-4c85-f103-ad692c7a5f5d"
      },
      "source": [
        "import matplotlib.pyplot as plt\n",
        "\n",
        "sample_size = 100000\n",
        "uniform = np.random.rand(sample_size)\n",
        "normal = np.random.randn(sample_size)\n",
        "\n",
        "pdf, bins, patches = plt.hist(uniform, bins=20, range=(0, 1), density=True)\n",
        "plt.title('rand: uniform')\n",
        "plt.show()\n",
        "\n",
        "pdf, bins, patches = plt.hist(normal, bins=20, range=(-4, 4), density=True)\n",
        "plt.title('randn: normal')\n",
        "plt.show()"
      ],
      "execution_count": 183,
      "outputs": [
        {
          "output_type": "display_data",
          "data": {
            "image/png": "[encoded data removed]",
            "text/plain": [
              "<Figure size 432x288 with 1 Axes>"
            ]
          },
          "metadata": {
            "needs_background": "light"
          }
        },
        {
          "output_type": "display_data",
          "data": {
            "image/png": "[encoded data removed]",
            "text/plain": [
              "<Figure size 432x288 with 1 Axes>"
            ]
          },
          "metadata": {
            "needs_background": "light"
          }
        }
      ]
    },
    {
      "cell_type": "code",
      "metadata": {
        "id": "3DlCCHmEfSVZ",
        "colab": {
          "base_uri": "https://localhost:8080/"
        },
        "outputId": "a7663c57-3061-4338-cea5-ece0e81cf80d"
      },
      "source": [
        "# rand function\n",
        "r1 = np.random.rand(4)\n",
        "r2 = np.random.rand(3,4)\n",
        "print('One Dimensional')\n",
        "print(r1)\n",
        "print('Two Dimensional')\n",
        "print(r2)"
      ],
      "execution_count": 184,
      "outputs": [
        {
          "output_type": "stream",
          "name": "stdout",
          "text": [
            "One Dimensional\n",
            "[0.0113326  0.86666317 0.28086019 0.81354112]\n",
            "Two Dimensional\n",
            "[[0.67910029 0.40742219 0.0492233  0.9324155 ]\n",
            " [0.61010153 0.06223875 0.41826131 0.46298141]\n",
            " [0.69817772 0.53833322 0.34923092 0.20911339]]\n"
          ]
        }
      ]
    },
    {
      "cell_type": "code",
      "metadata": {
        "id": "xhT5O3T6fval",
        "colab": {
          "base_uri": "https://localhost:8080/"
        },
        "outputId": "201119ce-fff6-4dac-c159-c0482925fa20"
      },
      "source": [
        "# randn function \n",
        "# When we plot the result will give us a normal distribution curve.\n",
        "r1 = np.random.randn(4)\n",
        "r2 = np.random.randn(3,4)\n",
        "print('One Dimensional')\n",
        "print(r1)\n",
        "print('Two Dimensional')\n",
        "print(r2)"
      ],
      "execution_count": 185,
      "outputs": [
        {
          "output_type": "stream",
          "name": "stdout",
          "text": [
            "One Dimensional\n",
            "[-2.64983757 -0.59432874 -1.03140182  0.94600312]\n",
            "Two Dimensional\n",
            "[[ 0.44561955 -0.08831035  0.56318712  0.79147231]\n",
            " [-0.16361996  0.3008902   0.48594356  0.3010664 ]\n",
            " [-0.78685233 -1.62208314 -1.01465563  1.05175793]]\n"
          ]
        }
      ]
    },
    {
      "cell_type": "code",
      "metadata": {
        "id": "nb5JUmkQ73o0",
        "colab": {
          "base_uri": "https://localhost:8080/"
        },
        "outputId": "e5d8712a-2c55-4245-87d4-0da64e623205"
      },
      "source": [
        "np.random.randint(20) #generates a random integer exclusive of 20"
      ],
      "execution_count": 186,
      "outputs": [
        {
          "output_type": "execute_result",
          "data": {
            "text/plain": [
              "5"
            ]
          },
          "metadata": {},
          "execution_count": 186
        }
      ]
    },
    {
      "cell_type": "code",
      "metadata": {
        "id": "EK51_hRk8EnA",
        "colab": {
          "base_uri": "https://localhost:8080/"
        },
        "outputId": "10bbfc9f-ef37-4382-97d7-a47d42dc5d5a"
      },
      "source": [
        "np.random.randint(2, 20) #generates a random integer including 2 but excluding 20"
      ],
      "execution_count": 187,
      "outputs": [
        {
          "output_type": "execute_result",
          "data": {
            "text/plain": [
              "14"
            ]
          },
          "metadata": {},
          "execution_count": 187
        }
      ]
    },
    {
      "cell_type": "code",
      "metadata": {
        "id": "Cwd-S2zK8HJ-",
        "colab": {
          "base_uri": "https://localhost:8080/"
        },
        "outputId": "d51862b5-aa3d-4d7c-f065-ba64138050f6"
      },
      "source": [
        "np.random.randint(2, 20, 7) #generates 7 random integers including 2 but excluding 20"
      ],
      "execution_count": 188,
      "outputs": [
        {
          "output_type": "execute_result",
          "data": {
            "text/plain": [
              "array([ 9, 14, 15, 13, 13,  6,  6])"
            ]
          },
          "metadata": {},
          "execution_count": 188
        }
      ]
    },
    {
      "cell_type": "markdown",
      "metadata": {
        "id": "6c36z675Gh56"
      },
      "source": [
        "# Arithmetic Operations\n",
        "Numerical operators are defined in NumPy to do basic arithmetic operation elementwise. "
      ]
    },
    {
      "cell_type": "code",
      "metadata": {
        "id": "gTrXcvW05EHU",
        "colab": {
          "base_uri": "https://localhost:8080/"
        },
        "outputId": "1d7764ee-6650-4864-bffc-5ca7f96c9e3f"
      },
      "source": [
        "a = np.array([(1,2,3,4,5,6)])\n",
        "b = np.array([(0.5,1,1.5,2,2.5,3)])\n",
        "print('Addition')\n",
        "print(a+b)\n",
        "print('Subtraction')\n",
        "print(a-b)\n",
        "print('Multiplication')\n",
        "print(a*b)\n",
        "print('Division')\n",
        "print(a/b)"
      ],
      "execution_count": 189,
      "outputs": [
        {
          "output_type": "stream",
          "name": "stdout",
          "text": [
            "Addition\n",
            "[[1.5 3.  4.5 6.  7.5 9. ]]\n",
            "Subtraction\n",
            "[[0.5 1.  1.5 2.  2.5 3. ]]\n",
            "Multiplication\n",
            "[[ 0.5  2.   4.5  8.  12.5 18. ]]\n",
            "Division\n",
            "[[2. 2. 2. 2. 2. 2.]]\n"
          ]
        }
      ]
    },
    {
      "cell_type": "markdown",
      "metadata": {
        "id": "6QnrcE8sRuD_"
      },
      "source": [
        "# Broadcasting\n",
        "NumPy’s broadcasting rule relaxes the constraint that arithmetic operation on arrays work on an element-by-element basis\n",
        "\n",
        "The simplest broadcasting example occurs when an array and a scalar value are combined in an operation:"
      ]
    },
    {
      "cell_type": "markdown",
      "metadata": {
        "id": "8NEMzV2UtLRV"
      },
      "source": [
        "#### Add an integer to a numpy array"
      ]
    },
    {
      "cell_type": "code",
      "metadata": {
        "id": "JHkuc60a8t64",
        "colab": {
          "base_uri": "https://localhost:8080/"
        },
        "outputId": "5d9cd965-420a-45e1-d1e9-b01e27c3fb80"
      },
      "source": [
        "e = a+50 #This adds 50 to every element in that array\n",
        "print(e)"
      ],
      "execution_count": 190,
      "outputs": [
        {
          "output_type": "stream",
          "name": "stdout",
          "text": [
            "[[51 52 53 54 55 56]]\n"
          ]
        }
      ]
    },
    {
      "cell_type": "markdown",
      "metadata": {
        "id": "kHQeRaou9GFo"
      },
      "source": [
        "# Mathematical functions\n",
        "Mathematical functions are also applied for each element of the numpy array"
      ]
    },
    {
      "cell_type": "code",
      "metadata": {
        "id": "0Gv-sdDt9RqT",
        "colab": {
          "base_uri": "https://localhost:8080/"
        },
        "outputId": "d2b3096a-1ffe-4fe4-e6c4-8482db651a9a"
      },
      "source": [
        "sr = np.sqrt(a)     #Returns the square root of each element\n",
        "print(sr)"
      ],
      "execution_count": 191,
      "outputs": [
        {
          "output_type": "stream",
          "name": "stdout",
          "text": [
            "[[1.         1.41421356 1.73205081 2.         2.23606798 2.44948974]]\n"
          ]
        }
      ]
    },
    {
      "cell_type": "code",
      "metadata": {
        "id": "OUnqsDR79dgu",
        "colab": {
          "base_uri": "https://localhost:8080/"
        },
        "outputId": "a3241c90-450b-40a6-8992-105228ef591f"
      },
      "source": [
        "ex = np.exp(a)     #Returns the exponentials of each element\n",
        "print(ex)"
      ],
      "execution_count": 192,
      "outputs": [
        {
          "output_type": "stream",
          "name": "stdout",
          "text": [
            "[[  2.71828183   7.3890561   20.08553692  54.59815003 148.4131591\n",
            "  403.42879349]]\n"
          ]
        }
      ]
    },
    {
      "cell_type": "code",
      "metadata": {
        "id": "SXJFb-Mh-5PR",
        "colab": {
          "base_uri": "https://localhost:8080/"
        },
        "outputId": "783be9a1-f8b6-4619-c041-b97a0bd05f13"
      },
      "source": [
        "arr = np.array([1, 2, 3, 9])\n",
        "s = np.sin(arr)     #Returns the sin of each element\n",
        "print(s)"
      ],
      "execution_count": 193,
      "outputs": [
        {
          "output_type": "stream",
          "name": "stdout",
          "text": [
            "[0.84147098 0.90929743 0.14112001 0.41211849]\n"
          ]
        }
      ]
    },
    {
      "cell_type": "code",
      "metadata": {
        "id": "WV2om123_d4a",
        "colab": {
          "base_uri": "https://localhost:8080/"
        },
        "outputId": "ba5f1ee1-3fae-4e8b-ef90-3aebbbfa392f"
      },
      "source": [
        "arr = np.array([1, 2, 3, 9])\n",
        "s = np.cos(arr)     #Returns the sin of each element\n",
        "print(s)"
      ],
      "execution_count": 194,
      "outputs": [
        {
          "output_type": "stream",
          "name": "stdout",
          "text": [
            "[ 0.54030231 -0.41614684 -0.9899925  -0.91113026]\n"
          ]
        }
      ]
    },
    {
      "cell_type": "code",
      "metadata": {
        "id": "yl9jHgUG_i3a",
        "colab": {
          "base_uri": "https://localhost:8080/"
        },
        "outputId": "f7e41bab-844e-4503-c412-2fee0c6d5bf2"
      },
      "source": [
        "arr = np.array([1, 2, 3, 9])\n",
        "s = np.log(arr)     #Returns the sin of each element\n",
        "print(s)"
      ],
      "execution_count": 195,
      "outputs": [
        {
          "output_type": "stream",
          "name": "stdout",
          "text": [
            "[0.         0.69314718 1.09861229 2.19722458]\n"
          ]
        }
      ]
    },
    {
      "cell_type": "code",
      "metadata": {
        "id": "dbCW_pn0_od0",
        "colab": {
          "base_uri": "https://localhost:8080/"
        },
        "outputId": "b7eb68d1-ea7b-4b51-b5a3-8dde32dff968"
      },
      "source": [
        "arr = np.array([1, 2, 3, 9])\n",
        "s = np.sum(arr)     #Returns the sin of each element\n",
        "print(s)"
      ],
      "execution_count": 196,
      "outputs": [
        {
          "output_type": "stream",
          "name": "stdout",
          "text": [
            "15\n"
          ]
        }
      ]
    },
    {
      "cell_type": "code",
      "metadata": {
        "id": "f13GCGxm_tF2",
        "colab": {
          "base_uri": "https://localhost:8080/"
        },
        "outputId": "9a947feb-0876-4b94-c127-0073693b2ffa"
      },
      "source": [
        "arr = np.array([1, 2, 3, 9])\n",
        "s = np.std(arr)     #Returns the sin of each element\n",
        "print(s)"
      ],
      "execution_count": 197,
      "outputs": [
        {
          "output_type": "stream",
          "name": "stdout",
          "text": [
            "3.112474899497183\n"
          ]
        }
      ]
    },
    {
      "cell_type": "markdown",
      "metadata": {
        "id": "9Chp68HjuxiD"
      },
      "source": [
        "# Sum of elements in 2D Array"
      ]
    },
    {
      "cell_type": "code",
      "metadata": {
        "colab": {
          "base_uri": "https://localhost:8080/"
        },
        "id": "E7Gd4eDITzdH",
        "outputId": "79d8cd06-de38-4cf1-bfb1-15bcdf945546"
      },
      "source": [
        "twoD"
      ],
      "execution_count": 198,
      "outputs": [
        {
          "output_type": "execute_result",
          "data": {
            "text/plain": [
              "array([[ 1,  2,  3,  4,  5,  6],\n",
              "       [ 7,  8,  9, 10, 11, 12],\n",
              "       [13, 14, 15, 16, 17, 18],\n",
              "       [19, 20, 21, 22, 23, 24]])"
            ]
          },
          "metadata": {},
          "execution_count": 198
        }
      ]
    },
    {
      "cell_type": "code",
      "metadata": {
        "id": "JplPvjXyuJjP",
        "colab": {
          "base_uri": "https://localhost:8080/"
        },
        "outputId": "f32716a9-2068-45fe-85d9-7fb2997f5a70"
      },
      "source": [
        "twoD.sum()         #Returns the sum of all the values in twoD"
      ],
      "execution_count": 199,
      "outputs": [
        {
          "output_type": "execute_result",
          "data": {
            "text/plain": [
              "300"
            ]
          },
          "metadata": {},
          "execution_count": 199
        }
      ]
    },
    {
      "cell_type": "code",
      "metadata": {
        "id": "PWCrPQWHuRsu",
        "colab": {
          "base_uri": "https://localhost:8080/"
        },
        "outputId": "7a90d467-3f4b-4f5c-9a2f-06e3e39ad716"
      },
      "source": [
        "twoD.sum(axis=0) #Returns the sum of all the columns in mat"
      ],
      "execution_count": 200,
      "outputs": [
        {
          "output_type": "execute_result",
          "data": {
            "text/plain": [
              "array([40, 44, 48, 52, 56, 60])"
            ]
          },
          "metadata": {},
          "execution_count": 200
        }
      ]
    },
    {
      "cell_type": "code",
      "metadata": {
        "id": "6HwelKmOuoo8",
        "colab": {
          "base_uri": "https://localhost:8080/"
        },
        "outputId": "2509dadb-3331-42a0-89b0-a74819909616"
      },
      "source": [
        "twoD.sum(axis=1) #Returns the sum of all the rows in mat"
      ],
      "execution_count": 201,
      "outputs": [
        {
          "output_type": "execute_result",
          "data": {
            "text/plain": [
              "array([ 21,  57,  93, 129])"
            ]
          },
          "metadata": {},
          "execution_count": 201
        }
      ]
    },
    {
      "cell_type": "markdown",
      "metadata": {
        "id": "2hWZ2iKX7r9f"
      },
      "source": [
        "# Maximum and Minimum elements\n",
        "\n",
        "max() and min() functions are used to find maximum and minimum value in the array\n",
        "\n",
        "argmax() and argmin() functions are used to find index of the highest and index of the smallest element in the array"
      ]
    },
    {
      "cell_type": "code",
      "metadata": {
        "id": "EPjw1aua-_fv",
        "colab": {
          "base_uri": "https://localhost:8080/"
        },
        "outputId": "e4810a3c-ff09-4640-ea75-c57159601da2"
      },
      "source": [
        "print(twoD)"
      ],
      "execution_count": 202,
      "outputs": [
        {
          "output_type": "stream",
          "name": "stdout",
          "text": [
            "[[ 1  2  3  4  5  6]\n",
            " [ 7  8  9 10 11 12]\n",
            " [13 14 15 16 17 18]\n",
            " [19 20 21 22 23 24]]\n"
          ]
        }
      ]
    },
    {
      "cell_type": "code",
      "metadata": {
        "id": "tXon1ou894d_",
        "colab": {
          "base_uri": "https://localhost:8080/"
        },
        "outputId": "29e605c6-2f1b-46c5-970f-b943f5a2d6db"
      },
      "source": [
        "twoD.max()"
      ],
      "execution_count": 203,
      "outputs": [
        {
          "output_type": "execute_result",
          "data": {
            "text/plain": [
              "24"
            ]
          },
          "metadata": {},
          "execution_count": 203
        }
      ]
    },
    {
      "cell_type": "code",
      "metadata": {
        "id": "fyEFHED3-wf0",
        "colab": {
          "base_uri": "https://localhost:8080/"
        },
        "outputId": "2e1486f1-39c2-4169-fc45-2f1b6f783e36"
      },
      "source": [
        "twoD.min()"
      ],
      "execution_count": 204,
      "outputs": [
        {
          "output_type": "execute_result",
          "data": {
            "text/plain": [
              "1"
            ]
          },
          "metadata": {},
          "execution_count": 204
        }
      ]
    },
    {
      "cell_type": "code",
      "metadata": {
        "id": "sDbcOjYQ_mbD",
        "colab": {
          "base_uri": "https://localhost:8080/"
        },
        "outputId": "d65fbc3b-75f0-41ea-ddb5-df33141f37ae"
      },
      "source": [
        "twoD.argmax()"
      ],
      "execution_count": 205,
      "outputs": [
        {
          "output_type": "execute_result",
          "data": {
            "text/plain": [
              "23"
            ]
          },
          "metadata": {},
          "execution_count": 205
        }
      ]
    },
    {
      "cell_type": "code",
      "metadata": {
        "id": "tR83LU4D_ttP",
        "colab": {
          "base_uri": "https://localhost:8080/"
        },
        "outputId": "6538b1d2-b226-4d81-f731-0e60a0d4f8fc"
      },
      "source": [
        "twoD.argmin()"
      ],
      "execution_count": 206,
      "outputs": [
        {
          "output_type": "execute_result",
          "data": {
            "text/plain": [
              "0"
            ]
          },
          "metadata": {},
          "execution_count": 206
        }
      ]
    },
    {
      "cell_type": "markdown",
      "metadata": {
        "id": "FnHPJ4hLNQes"
      },
      "source": [
        "# Stacking of Arrays in NumPy\n",
        "We can either horizontally or vertically stack an array into another array\n",
        "\n",
        "1.   To horizontally stack - hstack () function is used\n",
        "2.   To vertically stack - vstack () function is used\n",
        "\n"
      ]
    },
    {
      "cell_type": "code",
      "metadata": {
        "id": "aYmukKjSNYe-",
        "colab": {
          "base_uri": "https://localhost:8080/"
        },
        "outputId": "1e1a319e-0ae6-4efe-a005-7b83ccd552cf"
      },
      "source": [
        "# add along x axis, number of rows should be same\n",
        "a = np.array([(1,2,3),(4,5,6)])\n",
        "b = np.array([(0.5,1,1.5),(2,2.5,3)])\n",
        "c = np.hstack((a,b))\n",
        "print('A is')\n",
        "print(a)\n",
        "print('\\nB is')\n",
        "print(b)\n",
        "print('\\nAfter HStacking')\n",
        "print(c)"
      ],
      "execution_count": 207,
      "outputs": [
        {
          "output_type": "stream",
          "name": "stdout",
          "text": [
            "A is\n",
            "[[1 2 3]\n",
            " [4 5 6]]\n",
            "\n",
            "B is\n",
            "[[0.5 1.  1.5]\n",
            " [2.  2.5 3. ]]\n",
            "\n",
            "After HStacking\n",
            "[[1.  2.  3.  0.5 1.  1.5]\n",
            " [4.  5.  6.  2.  2.5 3. ]]\n"
          ]
        }
      ]
    },
    {
      "cell_type": "code",
      "metadata": {
        "id": "EjrkOCIYOMxY",
        "colab": {
          "base_uri": "https://localhost:8080/"
        },
        "outputId": "0a305062-0253-47fb-dcfc-2e0aa8da4022"
      },
      "source": [
        "print('A is')\n",
        "print(a)\n",
        "print('\\nB is')\n",
        "print(b)\n",
        "c = np.vstack((a,b))\n",
        "# add along y axis, number of colums should be same\n",
        "print('\\nAfter VStacking')\n",
        "print(c)\n"
      ],
      "execution_count": 208,
      "outputs": [
        {
          "output_type": "stream",
          "name": "stdout",
          "text": [
            "A is\n",
            "[[1 2 3]\n",
            " [4 5 6]]\n",
            "\n",
            "B is\n",
            "[[0.5 1.  1.5]\n",
            " [2.  2.5 3. ]]\n",
            "\n",
            "After VStacking\n",
            "[[1.  2.  3. ]\n",
            " [4.  5.  6. ]\n",
            " [0.5 1.  1.5]\n",
            " [2.  2.5 3. ]]\n"
          ]
        }
      ]
    },
    {
      "cell_type": "markdown",
      "metadata": {
        "id": "-ZQGrKE4VEJv"
      },
      "source": [
        "# Insert a row or column in a 2D numpy array"
      ]
    },
    {
      "cell_type": "code",
      "metadata": {
        "id": "apCy8jfwPDFr",
        "colab": {
          "base_uri": "https://localhost:8080/"
        },
        "outputId": "dcc282f8-b595-4530-8127-7ffac5e9b687"
      },
      "source": [
        "a = np.array([[1,2,3],[4,5,6],[7,8,9]])\n",
        "a = np.insert(a,1,[10,11,12],axis=0)\n",
        "print(a)"
      ],
      "execution_count": 209,
      "outputs": [
        {
          "output_type": "stream",
          "name": "stdout",
          "text": [
            "[[ 1  2  3]\n",
            " [10 11 12]\n",
            " [ 4  5  6]\n",
            " [ 7  8  9]]\n"
          ]
        }
      ]
    },
    {
      "cell_type": "code",
      "metadata": {
        "colab": {
          "base_uri": "https://localhost:8080/"
        },
        "id": "QIB017Y9Vavc",
        "outputId": "f31335bf-b9d3-4d42-cf69-e1e1e650dd91"
      },
      "source": [
        "a = np.array([[1,2,3],[4,5,6],[7,8,9]])\n",
        "a = np.insert(a,1,[10,11,12],axis=1)\n",
        "print(a)"
      ],
      "execution_count": 210,
      "outputs": [
        {
          "output_type": "stream",
          "name": "stdout",
          "text": [
            "[[ 1 10  2  3]\n",
            " [ 4 11  5  6]\n",
            " [ 7 12  8  9]]\n"
          ]
        }
      ]
    },
    {
      "cell_type": "markdown",
      "metadata": {
        "id": "wh4OTCO6VjLs"
      },
      "source": [
        "# Delete a row or column in a 2D numpy array"
      ]
    },
    {
      "cell_type": "code",
      "metadata": {
        "id": "puXU5uHpPmGN",
        "colab": {
          "base_uri": "https://localhost:8080/"
        },
        "outputId": "2f70a681-7289-443c-ed92-db72a6575bb6"
      },
      "source": [
        "print('A before deletion')\n",
        "print(a)\n",
        "a_del = np.delete(a,2,axis=0)\n",
        "print('\\n A after deleting third row')\n",
        "print(a_del)"
      ],
      "execution_count": 211,
      "outputs": [
        {
          "output_type": "stream",
          "name": "stdout",
          "text": [
            "A before deletion\n",
            "[[ 1 10  2  3]\n",
            " [ 4 11  5  6]\n",
            " [ 7 12  8  9]]\n",
            "\n",
            " A after deleting third row\n",
            "[[ 1 10  2  3]\n",
            " [ 4 11  5  6]]\n"
          ]
        }
      ]
    },
    {
      "cell_type": "code",
      "metadata": {
        "colab": {
          "base_uri": "https://localhost:8080/"
        },
        "id": "GbaSuAJRV8jA",
        "outputId": "910e67d6-49d9-472e-f2f2-a0dd2c2edb8f"
      },
      "source": [
        "print('A before deletion')\n",
        "print(a)\n",
        "a_del = np.delete(a,2,axis=1)\n",
        "print('\\n A after deleting third column')\n",
        "print(a_del)"
      ],
      "execution_count": 212,
      "outputs": [
        {
          "output_type": "stream",
          "name": "stdout",
          "text": [
            "A before deletion\n",
            "[[ 1 10  2  3]\n",
            " [ 4 11  5  6]\n",
            " [ 7 12  8  9]]\n",
            "\n",
            " A after deleting third column\n",
            "[[ 1 10  3]\n",
            " [ 4 11  6]\n",
            " [ 7 12  9]]\n"
          ]
        }
      ]
    },
    {
      "cell_type": "markdown",
      "metadata": {
        "id": "wGz-q2UQE16Q"
      },
      "source": [
        "# Create matrices in NumPy\n",
        "A built-in function matrix is in NumPy"
      ]
    },
    {
      "cell_type": "code",
      "metadata": {
        "id": "ga9GCh5AFC9l",
        "colab": {
          "base_uri": "https://localhost:8080/"
        },
        "outputId": "c55f2d9f-9df2-4beb-ffb7-97d4e158cb51"
      },
      "source": [
        "mat1 = np.matrix('1 2; 3 4')\n",
        "print(mat1)"
      ],
      "execution_count": 213,
      "outputs": [
        {
          "output_type": "stream",
          "name": "stdout",
          "text": [
            "[[1 2]\n",
            " [3 4]]\n"
          ]
        }
      ]
    },
    {
      "cell_type": "code",
      "metadata": {
        "id": "A2i9LTloGGwm",
        "colab": {
          "base_uri": "https://localhost:8080/"
        },
        "outputId": "2271dfa0-cd8b-4b95-bb88-a5d4ec3bfc89"
      },
      "source": [
        "mat2 = np.matrix('5 6; 7 8')\n",
        "print(mat2)"
      ],
      "execution_count": 214,
      "outputs": [
        {
          "output_type": "stream",
          "name": "stdout",
          "text": [
            "[[5 6]\n",
            " [7 8]]\n"
          ]
        }
      ]
    },
    {
      "cell_type": "markdown",
      "metadata": {
        "id": "ijjefsQcXAtq"
      },
      "source": [
        "#### Attributes of matrices"
      ]
    },
    {
      "cell_type": "code",
      "metadata": {
        "id": "rr8lkG8uP-Ad",
        "colab": {
          "base_uri": "https://localhost:8080/"
        },
        "outputId": "22f7ebc1-e027-40f2-c543-565836c44864"
      },
      "source": [
        "print(mat1.shape)"
      ],
      "execution_count": 215,
      "outputs": [
        {
          "output_type": "stream",
          "name": "stdout",
          "text": [
            "(2, 2)\n"
          ]
        }
      ]
    },
    {
      "cell_type": "code",
      "metadata": {
        "id": "2xm0G01eQGBM",
        "colab": {
          "base_uri": "https://localhost:8080/"
        },
        "outputId": "ee30ac17-6a5a-4930-8ddd-bd71fb1bb76b"
      },
      "source": [
        "print(mat1.size)"
      ],
      "execution_count": 216,
      "outputs": [
        {
          "output_type": "stream",
          "name": "stdout",
          "text": [
            "4\n"
          ]
        }
      ]
    },
    {
      "cell_type": "markdown",
      "metadata": {
        "id": "_hyo1UTgXHtJ"
      },
      "source": [
        "#### Arithmetic Operations with matrices"
      ]
    },
    {
      "cell_type": "code",
      "metadata": {
        "colab": {
          "base_uri": "https://localhost:8080/"
        },
        "id": "wlYLWFwYYegT",
        "outputId": "68f4aa9f-c4ad-4f6b-aaee-f08428d1402e"
      },
      "source": [
        "print('Mat1 is')\n",
        "print(mat1)\n",
        "print('Mat2 is')\n",
        "print(mat2)"
      ],
      "execution_count": 217,
      "outputs": [
        {
          "output_type": "stream",
          "name": "stdout",
          "text": [
            "Mat1 is\n",
            "[[1 2]\n",
            " [3 4]]\n",
            "Mat2 is\n",
            "[[5 6]\n",
            " [7 8]]\n"
          ]
        }
      ]
    },
    {
      "cell_type": "code",
      "metadata": {
        "id": "-8pFvJhZGQQ8",
        "colab": {
          "base_uri": "https://localhost:8080/"
        },
        "outputId": "91ac3152-7301-407c-a91f-d3950d2dc9a8"
      },
      "source": [
        "print(mat1+mat2)#element-wise multiplication"
      ],
      "execution_count": 218,
      "outputs": [
        {
          "output_type": "stream",
          "name": "stdout",
          "text": [
            "[[ 6  8]\n",
            " [10 12]]\n"
          ]
        }
      ]
    },
    {
      "cell_type": "code",
      "metadata": {
        "id": "jgAk2p5fGUiO",
        "colab": {
          "base_uri": "https://localhost:8080/"
        },
        "outputId": "5e071d4a-3e2a-4193-f7e0-75a9e0b8ab8a"
      },
      "source": [
        "print('Mat1 is')\n",
        "print(mat1)\n",
        "print('\\nMat2 is')\n",
        "print(mat2)\n",
        "print('\\nResultant matrix is')\n",
        "print(mat1-mat2)"
      ],
      "execution_count": 219,
      "outputs": [
        {
          "output_type": "stream",
          "name": "stdout",
          "text": [
            "Mat1 is\n",
            "[[1 2]\n",
            " [3 4]]\n",
            "\n",
            "Mat2 is\n",
            "[[5 6]\n",
            " [7 8]]\n",
            "\n",
            "Resultant matrix is\n",
            "[[-4 -4]\n",
            " [-4 -4]]\n"
          ]
        }
      ]
    },
    {
      "cell_type": "code",
      "metadata": {
        "id": "T7aoVFpgR63K",
        "colab": {
          "base_uri": "https://localhost:8080/"
        },
        "outputId": "4f2ad458-251b-4a2d-9ef8-ac90f45f61ac"
      },
      "source": [
        "print('Mat1 is')\n",
        "print(mat1)\n",
        "print('\\nMat2 is')\n",
        "print(mat2)\n",
        "print('\\nResultant matrix is')\n",
        "m3 = np.dot(mat1,mat2) # matrix multiplication\n",
        "print(m3)"
      ],
      "execution_count": 220,
      "outputs": [
        {
          "output_type": "stream",
          "name": "stdout",
          "text": [
            "Mat1 is\n",
            "[[1 2]\n",
            " [3 4]]\n",
            "\n",
            "Mat2 is\n",
            "[[5 6]\n",
            " [7 8]]\n",
            "\n",
            "Resultant matrix is\n",
            "[[19 22]\n",
            " [43 50]]\n"
          ]
        }
      ]
    },
    {
      "cell_type": "code",
      "metadata": {
        "id": "oFu5djO7GZGs",
        "colab": {
          "base_uri": "https://localhost:8080/"
        },
        "outputId": "e2c379bf-d36d-45f6-fb12-b4f5c92d481e"
      },
      "source": [
        "print('Mat1 is')\n",
        "print(mat1)\n",
        "print('\\nMat2 is')\n",
        "print(mat2)\n",
        "print('\\nResultant matrix is')\n",
        "print(mat1*mat2)"
      ],
      "execution_count": 221,
      "outputs": [
        {
          "output_type": "stream",
          "name": "stdout",
          "text": [
            "Mat1 is\n",
            "[[1 2]\n",
            " [3 4]]\n",
            "\n",
            "Mat2 is\n",
            "[[5 6]\n",
            " [7 8]]\n",
            "\n",
            "Resultant matrix is\n",
            "[[19 22]\n",
            " [43 50]]\n"
          ]
        }
      ]
    },
    {
      "cell_type": "code",
      "metadata": {
        "id": "0zBvvMepSwoZ",
        "colab": {
          "base_uri": "https://localhost:8080/"
        },
        "outputId": "7d22e36d-7af3-494a-db12-bd05ce86fdb4"
      },
      "source": [
        "print('Mat1 is')\n",
        "print(mat1)\n",
        "print('\\nMat2 is')\n",
        "print(mat2)\n",
        "print('\\nResultant matrix is')\n",
        "mat_div = np.divide(mat1,mat2)\n",
        "print(mat_div)"
      ],
      "execution_count": 222,
      "outputs": [
        {
          "output_type": "stream",
          "name": "stdout",
          "text": [
            "Mat1 is\n",
            "[[1 2]\n",
            " [3 4]]\n",
            "\n",
            "Mat2 is\n",
            "[[5 6]\n",
            " [7 8]]\n",
            "\n",
            "Resultant matrix is\n",
            "[[0.2        0.33333333]\n",
            " [0.42857143 0.5       ]]\n"
          ]
        }
      ]
    },
    {
      "cell_type": "markdown",
      "metadata": {
        "id": "PF8na0QJXSjm"
      },
      "source": [
        "#### Transpose of a matrix"
      ]
    },
    {
      "cell_type": "code",
      "metadata": {
        "id": "0mfLWDjiSS_o",
        "colab": {
          "base_uri": "https://localhost:8080/"
        },
        "outputId": "89526e16-39e6-4815-8773-766137cd9a6b"
      },
      "source": [
        "print('Mat1 is')\n",
        "print(mat1)\n",
        "print('\\nResultant matrix is')\n",
        "mat_tra = np.transpose(mat1)\n",
        "mat_tra"
      ],
      "execution_count": 223,
      "outputs": [
        {
          "output_type": "stream",
          "name": "stdout",
          "text": [
            "Mat1 is\n",
            "[[1 2]\n",
            " [3 4]]\n",
            "\n",
            "Resultant matrix is\n"
          ]
        },
        {
          "output_type": "execute_result",
          "data": {
            "text/plain": [
              "matrix([[1, 3],\n",
              "        [2, 4]])"
            ]
          },
          "metadata": {},
          "execution_count": 223
        }
      ]
    },
    {
      "cell_type": "code",
      "metadata": {
        "colab": {
          "base_uri": "https://localhost:8080/"
        },
        "id": "em90Y4u_XYk5",
        "outputId": "8c039970-10f3-4ac0-976a-c911971425d8"
      },
      "source": [
        "print('Mat1 is')\n",
        "print(mat1)\n",
        "print('\\nResultant matrix is')\n",
        "mat_transpose = mat1.T\n",
        "mat_transpose"
      ],
      "execution_count": 224,
      "outputs": [
        {
          "output_type": "stream",
          "name": "stdout",
          "text": [
            "Mat1 is\n",
            "[[1 2]\n",
            " [3 4]]\n",
            "\n",
            "Resultant matrix is\n"
          ]
        },
        {
          "output_type": "execute_result",
          "data": {
            "text/plain": [
              "matrix([[1, 3],\n",
              "        [2, 4]])"
            ]
          },
          "metadata": {},
          "execution_count": 224
        }
      ]
    },
    {
      "cell_type": "markdown",
      "metadata": {
        "id": "KmKADj5CX53O"
      },
      "source": [
        "#### Insert a row and column in a matrix"
      ]
    },
    {
      "cell_type": "code",
      "metadata": {
        "id": "w2vDKDygQKQv",
        "colab": {
          "base_uri": "https://localhost:8080/"
        },
        "outputId": "b0551c3c-b8f3-48fd-fff9-a40a31be69ff"
      },
      "source": [
        "print('Mat1 is')\n",
        "print(mat1)\n",
        "print('\\nMatrix after inserting first column is')\n",
        "col_new=np.matrix(\"10,11\")\n",
        "mat_ins = np.insert(mat1,0,col_new,axis=1)\n",
        "print(mat_ins)"
      ],
      "execution_count": 225,
      "outputs": [
        {
          "output_type": "stream",
          "name": "stdout",
          "text": [
            "Mat1 is\n",
            "[[1 2]\n",
            " [3 4]]\n",
            "\n",
            "Matrix after inserting first column is\n",
            "[[10  1  2]\n",
            " [11  3  4]]\n"
          ]
        }
      ]
    },
    {
      "cell_type": "code",
      "metadata": {
        "id": "RtiayGKzREzK",
        "colab": {
          "base_uri": "https://localhost:8080/"
        },
        "outputId": "4c1c9ab8-4025-4208-b1fe-8f733e95185e"
      },
      "source": [
        "print('Mat_ins is')\n",
        "print(mat_ins)\n",
        "print('\\nMatrix after inserting first row is')\n",
        "row_new = np.matrix('22,23,24')\n",
        "mat_ins = np.insert(mat_ins,0,row_new,axis=0)\n",
        "print(mat_ins)"
      ],
      "execution_count": 226,
      "outputs": [
        {
          "output_type": "stream",
          "name": "stdout",
          "text": [
            "Mat_ins is\n",
            "[[10  1  2]\n",
            " [11  3  4]]\n",
            "\n",
            "Matrix after inserting first row is\n",
            "[[22 23 24]\n",
            " [10  1  2]\n",
            " [11  3  4]]\n"
          ]
        }
      ]
    },
    {
      "cell_type": "markdown",
      "metadata": {
        "id": "ixL_s8dsaYI2"
      },
      "source": [
        "#### Delete a row and column in a matrix"
      ]
    },
    {
      "cell_type": "code",
      "metadata": {
        "colab": {
          "base_uri": "https://localhost:8080/"
        },
        "id": "P-kXETsOYFbp",
        "outputId": "d86d13cc-9dd6-4650-a690-2279699fc7d6"
      },
      "source": [
        "print('Mat_ins is')\n",
        "print(mat_ins)\n",
        "print('\\nMatrix after deleting first row is')\n",
        "new_mat = np.delete(mat_ins,0,axis= 0)\n",
        "new_mat"
      ],
      "execution_count": 227,
      "outputs": [
        {
          "output_type": "stream",
          "name": "stdout",
          "text": [
            "Mat_ins is\n",
            "[[22 23 24]\n",
            " [10  1  2]\n",
            " [11  3  4]]\n",
            "\n",
            "Matrix after deleting first row is\n"
          ]
        },
        {
          "output_type": "execute_result",
          "data": {
            "text/plain": [
              "matrix([[10,  1,  2],\n",
              "        [11,  3,  4]])"
            ]
          },
          "metadata": {},
          "execution_count": 227
        }
      ]
    },
    {
      "cell_type": "code",
      "metadata": {
        "colab": {
          "base_uri": "https://localhost:8080/"
        },
        "id": "hpRFjfD_acCc",
        "outputId": "77612227-50d1-437c-81cc-05c3313fe02e"
      },
      "source": [
        "print('Mat_ins is')\n",
        "print(mat_ins)\n",
        "print('\\nMatrix after deleting first column is')\n",
        "new_mat = np.delete(mat_ins,0,axis= 1)\n",
        "new_mat"
      ],
      "execution_count": 228,
      "outputs": [
        {
          "output_type": "stream",
          "name": "stdout",
          "text": [
            "Mat_ins is\n",
            "[[22 23 24]\n",
            " [10  1  2]\n",
            " [11  3  4]]\n",
            "\n",
            "Matrix after deleting first column is\n"
          ]
        },
        {
          "output_type": "execute_result",
          "data": {
            "text/plain": [
              "matrix([[23, 24],\n",
              "        [ 1,  2],\n",
              "        [ 3,  4]])"
            ]
          },
          "metadata": {},
          "execution_count": 228
        }
      ]
    },
    {
      "cell_type": "markdown",
      "metadata": {
        "id": "MH-ETTEAm6FJ"
      },
      "source": [
        "## Linear Algebra with Matrices\n",
        "\n",
        "numpy.linalg.det() - Returns determinant of a matrix"
      ]
    },
    {
      "cell_type": "code",
      "metadata": {
        "id": "Jffn8Vr_8gH-"
      },
      "source": [
        "m1 = np.matrix('4, 5, 16, 7; 2, -3, 2, 3; 3, 4, 5, 6; 4, 7, 8, 9')"
      ],
      "execution_count": 229,
      "outputs": []
    },
    {
      "cell_type": "code",
      "metadata": {
        "id": "nta-fGgGnNnf",
        "colab": {
          "base_uri": "https://localhost:8080/"
        },
        "outputId": "fdccbcf7-8ddf-4282-a88e-9553bf266074"
      },
      "source": [
        "print('Matrix m1 is ')\n",
        "print(m1)\n",
        "print('\\nDeterminant of m1 is')\n",
        "print(np.linalg.det(m1))"
      ],
      "execution_count": 230,
      "outputs": [
        {
          "output_type": "stream",
          "name": "stdout",
          "text": [
            "Matrix m1 is \n",
            "[[ 4  5 16  7]\n",
            " [ 2 -3  2  3]\n",
            " [ 3  4  5  6]\n",
            " [ 4  7  8  9]]\n",
            "\n",
            "Determinant of m1 is\n",
            "128.00000000000009\n"
          ]
        }
      ]
    },
    {
      "cell_type": "code",
      "metadata": {
        "id": "J66eWV1OnY2c",
        "colab": {
          "base_uri": "https://localhost:8080/"
        },
        "outputId": "2cf6d07e-f5d4-44d0-eb59-7357d5b58b6b"
      },
      "source": [
        "print('Matrix m1 is ')\n",
        "print(m1)\n",
        "print('\\n Rank of m1 is')\n",
        "np.linalg.matrix_rank(m1)"
      ],
      "execution_count": 231,
      "outputs": [
        {
          "output_type": "stream",
          "name": "stdout",
          "text": [
            "Matrix m1 is \n",
            "[[ 4  5 16  7]\n",
            " [ 2 -3  2  3]\n",
            " [ 3  4  5  6]\n",
            " [ 4  7  8  9]]\n",
            "\n",
            " Rank of m1 is\n"
          ]
        },
        {
          "output_type": "execute_result",
          "data": {
            "text/plain": [
              "4"
            ]
          },
          "metadata": {},
          "execution_count": 231
        }
      ]
    },
    {
      "cell_type": "code",
      "metadata": {
        "id": "Y-sF9fm6nv5b",
        "colab": {
          "base_uri": "https://localhost:8080/"
        },
        "outputId": "c594e913-6ced-4388-ae14-4996c34c2416"
      },
      "source": [
        "print('Matrix m1 is ')\n",
        "print(m1)\n",
        "print('\\n Inverse of m1 is')\n",
        "print(np.linalg.inv(m1))"
      ],
      "execution_count": 232,
      "outputs": [
        {
          "output_type": "stream",
          "name": "stdout",
          "text": [
            "Matrix m1 is \n",
            "[[ 4  5 16  7]\n",
            " [ 2 -3  2  3]\n",
            " [ 3  4  5  6]\n",
            " [ 4  7  8  9]]\n",
            "\n",
            " Inverse of m1 is\n",
            "[[ 9.37500000e-02 -4.68750000e-01  3.68750000e+00 -2.37500000e+00]\n",
            " [ 1.51394049e-17 -2.50000000e-01  5.00000000e-01 -2.50000000e-01]\n",
            " [ 9.37500000e-02  3.12500000e-02 -3.12500000e-01  1.25000000e-01]\n",
            " [-1.25000000e-01  3.75000000e-01 -1.75000000e+00  1.25000000e+00]]\n"
          ]
        }
      ]
    },
    {
      "cell_type": "code",
      "metadata": {
        "id": "f5XLfX4On7E5"
      },
      "source": [
        "# Solving System of Linear Equations\n",
        "'''3x+y+2z=2\n",
        "3x+2y+5z=-1\n",
        "6x+7y+8z=3'''\n",
        "A = np.matrix('3, 1, 2; 3, 2, 5; 6, 7, 8' )\n",
        "B = np.matrix('2;-1;3')\n",
        "X =  np.linalg.solve(A,B)"
      ],
      "execution_count": 234,
      "outputs": []
    },
    {
      "cell_type": "code",
      "metadata": {
        "id": "Oar5TD3PpSAo",
        "colab": {
          "base_uri": "https://localhost:8080/"
        },
        "outputId": "4ac4f143-3e63-43ff-b104-f1aa2bb3614c"
      },
      "source": [
        "print(\" The equations are \\n 3x+y+2z=2 \\n 3x+2y+5z=-1\\n 6x+7y+8z=3\\n\")\n",
        "print(\"\\nSolution for X, Y and Z are\")\n",
        "print(X)"
      ],
      "execution_count": 235,
      "outputs": [
        {
          "output_type": "stream",
          "name": "stdout",
          "text": [
            " The equations are \n",
            " 3x+y+2z=2 \n",
            " 3x+2y+5z=-1\n",
            " 6x+7y+8z=3\n",
            "\n",
            "\n",
            "Solution for X, Y and Z are\n",
            "[[ 1.24242424]\n",
            " [ 0.81818182]\n",
            " [-1.27272727]]\n"
          ]
        }
      ]
    },
    {
      "cell_type": "code",
      "metadata": {
        "id": "VV6bUsiGpZ5c"
      },
      "source": [
        ""
      ],
      "execution_count": null,
      "outputs": []
    }
  ]
}